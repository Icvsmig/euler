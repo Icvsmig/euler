{
 "cells": [
  {
   "cell_type": "code",
   "execution_count": 9,
   "metadata": {},
   "outputs": [],
   "source": [
    "def merge(left,right):\n",
    "    result = []\n",
    "    i,j = 0, 0\n",
    "    while i<len(left) and j<len(right):\n",
    "        if(left[i] <= right[j]):\n",
    "            result.append(left[i])\n",
    "            i+=1\n",
    "        else:\n",
    "            result.append(right[j])\n",
    "            j+=1\n",
    "    result += left[i:]\n",
    "    result += right[j:]\n",
    "    return result\n",
    "\n",
    "\n"
   ]
  },
  {
   "cell_type": "code",
   "execution_count": 10,
   "metadata": {},
   "outputs": [],
   "source": [
    "def mergesort(lst):\n",
    "    if (len(lst)<=1):\n",
    "        return(lst)\n",
    "    mid = int(len(lst)/2)\n",
    "    left = mergesort(lst[:mid])\n",
    "    right = mergesort(lst[mid:])\n",
    "    return merge(left,right)"
   ]
  },
  {
   "cell_type": "code",
   "execution_count": 11,
   "metadata": {},
   "outputs": [
    {
     "name": "stdout",
     "output_type": "stream",
     "text": [
      "[1, 2, 4, 5, 6, 8, 9]\n"
     ]
    }
   ],
   "source": [
    "ar = [2,5,6,8,9,4,1]\n",
    "print(mergesort(ar))"
   ]
  },
  {
   "cell_type": "code",
   "execution_count": 13,
   "metadata": {},
   "outputs": [],
   "source": [
    "class Node:\n",
    "    def __init__(self, val):\n",
    "        self.left = None\n",
    "        self.right = None\n",
    "        self.val = val"
   ]
  },
  {
   "cell_type": "code",
   "execution_count": 17,
   "metadata": {},
   "outputs": [],
   "source": [
    "# Recursive Python program for level order traversal of Binary Tree \n",
    "  \n",
    "# A node structure \n",
    "class Node: \n",
    "  \n",
    "    # A utility function to create a new node \n",
    "    def __init__(self, key): \n",
    "        self.data = key  \n",
    "        self.left = None\n",
    "        self.right = None\n",
    "  \n",
    "  \n",
    "# Function to  print level order traversal of tree \n",
    "def printLevelOrder(root): \n",
    "    h = height(root) \n",
    "    for i in range(1, h+1): \n",
    "        printGivenLevel(root, i) \n",
    "  \n",
    "  \n",
    "# Print nodes at a given level \n",
    "def printGivenLevel(root , level): \n",
    "    if root is None: \n",
    "        return\n",
    "    if level == 1: \n",
    "        print (root.data), \n",
    "    elif level > 1 : \n",
    "        printGivenLevel(root.left , level-1) \n",
    "        printGivenLevel(root.right , level-1) \n",
    "  "
   ]
  },
  {
   "cell_type": "code",
   "execution_count": 19,
   "metadata": {},
   "outputs": [],
   "source": [
    "# Python program to print level order traversal using Queue \n",
    "  \n",
    "# A node structure \n",
    "class Node: \n",
    "    # A utility function to create a new node \n",
    "    def __init__(self ,key): \n",
    "        self.data = key \n",
    "        self.left = None\n",
    "        self.right = None\n",
    "  \n",
    "# Iterative Method to print the height of binary tree \n",
    "def printLevelOrder(root): \n",
    "    # Base Case \n",
    "    if root is None: \n",
    "        return\n",
    "      \n",
    "    # Create an empty queue for level order traversal \n",
    "    queue = [] \n",
    "  \n",
    "    # Enqueue Root and initialize height \n",
    "    queue.append(root) \n",
    "  \n",
    "    while(len(queue) > 0): \n",
    "        # Print front of queue and remove it from queue \n",
    "        print (queue[0].data), \n",
    "        node = queue.pop(0) \n",
    "  \n",
    "        #Enqueue left child \n",
    "        if node.left is not None: \n",
    "            queue.append(node.left) \n",
    "  \n",
    "        # Enqueue right child \n",
    "        if node.right is not None: \n",
    "            queue.append(node.right) "
   ]
  },
  {
   "cell_type": "code",
   "execution_count": 24,
   "metadata": {},
   "outputs": [
    {
     "name": "stdout",
     "output_type": "stream",
     "text": [
      "3\n",
      "6\n",
      "12\n",
      "14\n"
     ]
    }
   ],
   "source": [
    "class Node:\n",
    "\n",
    "    def __init__(self, data):\n",
    "\n",
    "        self.left = None\n",
    "        self.right = None\n",
    "        self.data = data\n",
    "\n",
    "    def insert(self, data):\n",
    "# Compare the new value with the parent node\n",
    "        if self.data:\n",
    "            if data < self.data:\n",
    "                if self.left is None:\n",
    "                    self.left = Node(data)\n",
    "                else:\n",
    "                    self.left.insert(data)\n",
    "            elif data > self.data:\n",
    "                if self.right is None:\n",
    "                    self.right = Node(data)\n",
    "                else:\n",
    "                    self.right.insert(data)\n",
    "        else:\n",
    "            self.data = data\n",
    "\n",
    "# Print the tree\n",
    "    def PrintTree(self):\n",
    "        if self.left:\n",
    "            self.left.PrintTree()\n",
    "        print( self.data),\n",
    "        if self.right:\n",
    "            self.right.PrintTree()\n",
    "\n",
    "# Use the insert method to add nodes\n",
    "root = Node(12)\n",
    "root.insert(6)\n",
    "root.insert(14)\n",
    "root.insert(3)\n",
    "\n",
    "root.PrintTree()"
   ]
  },
  {
   "cell_type": "code",
   "execution_count": 25,
   "metadata": {},
   "outputs": [],
   "source": [
    "import sys\n",
    "    \n",
    "def get_breadth_first_nodes(root):\n",
    "    nodes = []\n",
    "    stack = [root]\n",
    "    while stack:\n",
    "        cur_node = stack[0]\n",
    "        stack = stack[1:]\n",
    "        nodes.append(cur_node)\n",
    "        for child in cur_node.get_children():\n",
    "            stack.append(child)\n",
    "    return nodes"
   ]
  },
  {
   "cell_type": "code",
   "execution_count": 33,
   "metadata": {},
   "outputs": [],
   "source": [
    "class Node(object):\n",
    "    def __init__(self, id_):\n",
    "        self.id = id_\n",
    "        self.children = []\n",
    "        \n",
    "    def __repr__(self):\n",
    "        return \"Node: [%s]\" % self.id\n",
    "    \n",
    "    def add_child(self, node):\n",
    "        self.children.append(node) \n",
    "    \n",
    "    def get_children(self):\n",
    "        return self.children         \n",
    "    \n",
    "    def get_rev_children(self):\n",
    "        children = self.children[:]\n",
    "        children.reverse()\n",
    "        return children      \n",
    "########################################################################\n",
    "def println(text):\n",
    "    sys.stdout.write(text + \"\\n\")\n",
    "    \n",
    "def make_test_tree():\n",
    "    a0 = Node(\"a0\")\n",
    "    b0 = Node(\"b0\")      \n",
    "    b1 = Node(\"b1\")      \n",
    "    b2 = Node(\"b2\")      \n",
    "    c0 = Node(\"c0\")      \n",
    "    c1 = Node(\"c1\")  \n",
    "    d0 = Node(\"d0\")\n",
    "    d1 = Node(\"d1\")\n",
    "    e0 = Node(\"e0\")\n",
    "    e1 = Node(\"e1\")\n",
    "    e2 = Node(\"e2\")\n",
    "    f0 = Node(\"f0\")\n",
    "    f1 = Node(\"f1\")\n",
    "    f2 = Node(\"f2\")\n",
    "    f3 = Node(\"f3\")\n",
    "    \n",
    "    a0.add_child(b0) \n",
    "    a0.add_child(b1) \n",
    "    a0.add_child(b2)\n",
    "    \n",
    "    b0.add_child(c0) \n",
    "    b0.add_child(c1) \n",
    "    \n",
    "    c0.add_child(d0)\n",
    "    c1.add_child(d1)\n",
    "    \n",
    "    d0.add_child(e0)\n",
    "    d1.add_child(e1)\n",
    "    d1.add_child(e2)\n",
    "    \n",
    "    e0.add_child(f0)\n",
    "    e1.add_child(f1)\n",
    "    e1.add_child(f2)\n",
    "    e2.add_child(f3)\n",
    "\n",
    "    return a0   "
   ]
  },
  {
   "cell_type": "code",
   "execution_count": 34,
   "metadata": {},
   "outputs": [],
   "source": [
    "def test_breadth_first_nodes():\n",
    "    root = make_test_tree()\n",
    "    node_list = get_breadth_first_nodes(root)\n",
    "    for node in node_list:\n",
    "        println(str(node))"
   ]
  },
  {
   "cell_type": "code",
   "execution_count": 35,
   "metadata": {},
   "outputs": [
    {
     "name": "stdout",
     "output_type": "stream",
     "text": [
      "Node: [a0]\n",
      "Node: [b0]\n",
      "Node: [b1]\n",
      "Node: [b2]\n",
      "Node: [c0]\n",
      "Node: [c1]\n",
      "Node: [d0]\n",
      "Node: [d1]\n",
      "Node: [e0]\n",
      "Node: [e1]\n",
      "Node: [e2]\n",
      "Node: [f0]\n",
      "Node: [f1]\n",
      "Node: [f2]\n",
      "Node: [f3]\n",
      "\n"
     ]
    }
   ],
   "source": [
    "if __name__ == \"__main__\":\n",
    "    test_breadth_first_nodes()\n",
    "    println(\"\")"
   ]
  },
  {
   "cell_type": "code",
   "execution_count": 77,
   "metadata": {},
   "outputs": [
    {
     "name": "stdout",
     "output_type": "stream",
     "text": [
      "233168\n"
     ]
    }
   ],
   "source": [
    "def multiples_of_3_or_5():\n",
    "    for number in range(1000):\n",
    "        if not number % 3 or not number % 5:\n",
    "            yield number\n",
    "\n",
    "print(sum(multiples_of_3_or_5()))"
   ]
  },
  {
   "cell_type": "code",
   "execution_count": 4,
   "metadata": {},
   "outputs": [
    {
     "name": "stdout",
     "output_type": "stream",
     "text": [
      "4613732\n"
     ]
    }
   ],
   "source": [
    "import itertools\n",
    "\n",
    "def fib():\n",
    "    x,y = 0,1\n",
    "    while True:\n",
    "        yield x\n",
    "        x,y = y, x+y\n",
    "\n",
    "print (sum(x for x in itertools.takewhile(lambda x: x <= 4000000, fib()) if x % 2 == 0))"
   ]
  },
  {
   "cell_type": "code",
   "execution_count": 3,
   "metadata": {},
   "outputs": [
    {
     "name": "stdout",
     "output_type": "stream",
     "text": [
      "6857.0\n"
     ]
    }
   ],
   "source": [
    "n = 600851475143\n",
    "i = 2\n",
    "while i * i < n:\n",
    "    while n % i == 0:\n",
    "        n = n / i\n",
    "    i = i + 1\n",
    "\n",
    "print(n)\n"
   ]
  },
  {
   "cell_type": "code",
   "execution_count": 4,
   "metadata": {},
   "outputs": [],
   "source": [
    "def largest_prime_factor(num, div=2):\n",
    "    while div < num:\n",
    "        if num % div == 0 and num/div > 1:\n",
    "            num = num /div\n",
    "            div = 2\n",
    "        else:\n",
    "            div = div + 1\n",
    "    return num"
   ]
  },
  {
   "cell_type": "code",
   "execution_count": 6,
   "metadata": {},
   "outputs": [
    {
     "name": "stdout",
     "output_type": "stream",
     "text": [
      "906609\n"
     ]
    }
   ],
   "source": [
    "palindromes = []\n",
    "for x in range(100,999):\n",
    "    for i in range(100,999):\n",
    "        num = str(i*x).split()[0]\n",
    "        if len(num) == 6:\n",
    "            if num[0] == num[-1] and num[1] == num[-2] and num[2] == num[-3]:\n",
    "                palindromes.append(i * x)\n",
    "print(max(palindromes))"
   ]
  },
  {
   "cell_type": "code",
   "execution_count": 10,
   "metadata": {},
   "outputs": [
    {
     "name": "stdout",
     "output_type": "stream",
     "text": [
      "232792560\n"
     ]
    }
   ],
   "source": [
    "def ifDividesAll(num):\n",
    "  for i in range(2,21):\n",
    "    if num % i != 0:\n",
    "      return False\n",
    "  return True\n",
    "num = 20\n",
    "while True:\n",
    "  if ifDividesAll(num):\n",
    "    break\n",
    "  else:\n",
    "    num = num + 1\n",
    "print(num)"
   ]
  },
  {
   "cell_type": "code",
   "execution_count": 13,
   "metadata": {},
   "outputs": [
    {
     "name": "stdout",
     "output_type": "stream",
     "text": [
      "25164150\n"
     ]
    }
   ],
   "source": [
    "num2 = sum([i*i for i in range(1,101)])\n",
    "num = sum(range(1,101))\n",
    "num = num * num\n",
    "print(num-num2) "
   ]
  },
  {
   "cell_type": "code",
   "execution_count": 24,
   "metadata": {},
   "outputs": [
    {
     "name": "stdout",
     "output_type": "stream",
     "text": [
      "1299721\n"
     ]
    }
   ],
   "source": [
    "def nth_prime(n):\n",
    "    counter = 2\n",
    "    for i in range(3, n**2, 2):\n",
    "        k = 1\n",
    "        while k*k < i:\n",
    "            k += 2\n",
    "            if i % k == 0:\n",
    "               break\n",
    "        else:\n",
    "            counter += 1\n",
    "        if counter == n:\n",
    "            return i\n",
    "\n",
    "print(nth_prime(100001))"
   ]
  },
  {
   "cell_type": "code",
   "execution_count": 30,
   "metadata": {},
   "outputs": [],
   "source": [
    "number = '''\n",
    "73167176531330624919225119674426574742355349194934\n",
    "96983520312774506326239578318016984801869478851843\n",
    "85861560789112949495459501737958331952853208805511\n",
    "12540698747158523863050715693290963295227443043557\n",
    "66896648950445244523161731856403098711121722383113\n",
    "62229893423380308135336276614282806444486645238749\n",
    "30358907296290491560440772390713810515859307960866\n",
    "70172427121883998797908792274921901699720888093776\n",
    "65727333001053367881220235421809751254540594752243\n",
    "52584907711670556013604839586446706324415722155397\n",
    "53697817977846174064955149290862569321978468622482\n",
    "83972241375657056057490261407972968652414535100474\n",
    "82166370484403199890008895243450658541227588666881\n",
    "16427171479924442928230863465674813919123162824586\n",
    "17866458359124566529476545682848912883142607690042\n",
    "24219022671055626321111109370544217506941658960408\n",
    "07198403850962455444362981230987879927244284909188\n",
    "84580156166097919133875499200524063689912560717606\n",
    "05886116467109405077541002256983155200055935729725\n",
    "71636269561882670428252483600823257530420752963450'''\n",
    "num = number.strip().split('\\n')\n",
    "\n",
    "#we are joining back the numbers\n",
    "num = ''.join(num)\n",
    "\n",
    "#Let the largest value of the multiple be 0\n",
    "largest = 0\n",
    "\n",
    "    \n",
    "    "
   ]
  },
  {
   "cell_type": "code",
   "execution_count": null,
   "metadata": {},
   "outputs": [],
   "source": []
  }
 ],
 "metadata": {
  "kernelspec": {
   "display_name": "Python 3",
   "language": "python",
   "name": "python3"
  },
  "language_info": {
   "codemirror_mode": {
    "name": "ipython",
    "version": 3
   },
   "file_extension": ".py",
   "mimetype": "text/x-python",
   "name": "python",
   "nbconvert_exporter": "python",
   "pygments_lexer": "ipython3",
   "version": "3.7.3"
  }
 },
 "nbformat": 4,
 "nbformat_minor": 2
}
